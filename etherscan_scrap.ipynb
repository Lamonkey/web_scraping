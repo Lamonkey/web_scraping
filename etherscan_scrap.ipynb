{
 "cells": [
  {
   "cell_type": "code",
   "execution_count": 92,
   "metadata": {},
   "outputs": [],
   "source": [
    "from bs4 import BeautifulSoup as bs\n",
    "from requests_html import HTMLSession\n",
    "import pandas as pd\n",
    "from IPython.display import clear_output\n",
    "import time"
   ]
  },
  {
   "cell_type": "code",
   "execution_count": 68,
   "metadata": {},
   "outputs": [],
   "source": [
    "#get social profile from etherscan\n",
    "#return dictionary of social profile\n",
    "def get_social_profiles(token):\n",
    "    URL_base = \"https://etherscan.io/token/\"\n",
    "    URL_complete = URL_base + token\n",
    "    session = HTMLSession()\n",
    "    page = session.get(URL_complete)\n",
    "    soup = bs(page.content,\"html.parser\")\n",
    "    results = soup.find(id=\"content\")\n",
    "    header = results.find(\"h2\",string = \"Profile Summary\")\n",
    "    profile_card = header.parent.parent.parent\n",
    "    social_profiles = profile_card.find_all(\"li\")\n",
    "    social_profiles_map = {}\n",
    "    social_profiles_map[\"token\"] = token\n",
    "    for social_profile in social_profiles:\n",
    "        title_list = social_profile.find(\"a\")[\"data-original-title\"].split(\": \")\n",
    "        href = social_profile.find(\"a\")[\"href\"]\n",
    "        title = title_list[0]\n",
    "        if \"Email\" == title:\n",
    "            href = title_list[1]\n",
    "        social_profiles_map[title] = [href]\n",
    "    return social_profiles_map\n",
    "\n"
   ]
  },
  {
   "cell_type": "code",
   "execution_count": 86,
   "metadata": {},
   "outputs": [],
   "source": [
    "token_list = []"
   ]
  },
  {
   "cell_type": "code",
   "execution_count": 94,
   "metadata": {},
   "outputs": [
    {
     "name": "stdout",
     "output_type": "stream",
     "text": [
      "0xb548daa2aebeebe661768a6dfa98c0649c670385\n",
      "complete 99.95975855130784%\n"
     ]
    }
   ],
   "source": [
    "track_int = 0\n",
    "social_profiles_df = pd.DataFrame()\n",
    "social_profiles_df['token'] = pd.NaT\n",
    "wait = True\n",
    "for token in token_list:\n",
    "    wait = True\n",
    "    while(wait):\n",
    "        clear_output(wait=True)\n",
    "        print(token)\n",
    "        print(f\"complete {track_int/2485 * 100}%\")\n",
    "        try:\n",
    "            social_profiles = get_social_profiles(token)\n",
    "            wait=False\n",
    "            social_profiles_df = pd.concat([social_profiles_df, pd.DataFrame.from_dict(social_profiles)],ignore_index=True)\n",
    "            track_int+=1\n",
    "        except:\n",
    "            wait=True\n",
    "            print(\"wating...\")\n",
    "            time.sleep(2)\n",
    "    "
   ]
  },
  {
   "cell_type": "code",
   "execution_count": 95,
   "metadata": {},
   "outputs": [],
   "source": [
    "social_profiles_df.to_pickle(\"token_social_profile.pkl\")"
   ]
  },
  {
   "cell_type": "code",
   "execution_count": 101,
   "metadata": {},
   "outputs": [],
   "source": [
    "total = social_profiles_df.shape[0]\n",
    "col_names = social_profiles_df.columns[1:]\n"
   ]
  },
  {
   "cell_type": "code",
   "execution_count": 103,
   "metadata": {},
   "outputs": [
    {
     "data": {
      "text/plain": [
       "489"
      ]
     },
     "execution_count": 103,
     "metadata": {},
     "output_type": "execute_result"
    }
   ],
   "source": [
    "social_profiles_df[col_names[0]].isna().sum()"
   ]
  },
  {
   "cell_type": "code",
   "execution_count": 109,
   "metadata": {},
   "outputs": [
    {
     "name": "stdout",
     "output_type": "stream",
     "text": [
      "Email missing 19.68%\n",
      "Twitter missing 0.0%\n",
      "Discord missing 71.67%\n",
      "Opensea missing 90.34%\n",
      "Blog missing 47.04%\n",
      "Github missing 53.08%\n",
      "Telegram missing 25.96%\n",
      "Whitepaper missing 44.63%\n",
      "CoinMarketCap missing 71.71%\n",
      "CoinGecko missing 73.16%\n",
      "Reddit missing 72.19%\n",
      "Facebook missing 55.09%\n",
      "Linkedin missing 79.6%\n",
      "Slack missing 93.76%\n",
      "Bitcointalk missing 79.36%\n",
      "Uniswap missing 93.12%\n",
      "Ticketing missing 98.67%\n",
      "WeChat missing 99.4%\n"
     ]
    }
   ],
   "source": [
    "for col_name in col_names:\n",
    "    missing_count = social_profiles_df[col_name].isna().sum()\n",
    "    print(f\"{col_name} missing {round(missing_count/total * 100,2)}%\")"
   ]
  }
 ],
 "metadata": {
  "interpreter": {
   "hash": "314e5a2ff21cee8676812085cb047f5fa14db96e82b8a4dfc1d3a6c8421138cf"
  },
  "kernelspec": {
   "display_name": "Python 3.9.12 ('web_scrapping')",
   "language": "python",
   "name": "python3"
  },
  "language_info": {
   "codemirror_mode": {
    "name": "ipython",
    "version": 3
   },
   "file_extension": ".py",
   "mimetype": "text/x-python",
   "name": "python",
   "nbconvert_exporter": "python",
   "pygments_lexer": "ipython3",
   "version": "3.9.12"
  },
  "orig_nbformat": 4
 },
 "nbformat": 4,
 "nbformat_minor": 2
}
